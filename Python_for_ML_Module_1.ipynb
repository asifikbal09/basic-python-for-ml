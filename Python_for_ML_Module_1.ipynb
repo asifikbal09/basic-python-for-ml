{
  "nbformat": 4,
  "nbformat_minor": 0,
  "metadata": {
    "colab": {
      "provenance": [],
      "authorship_tag": "ABX9TyPbyoqI9omS10SpXdpMa+AA",
      "include_colab_link": true
    },
    "kernelspec": {
      "name": "python3",
      "display_name": "Python 3"
    },
    "language_info": {
      "name": "python"
    }
  },
  "cells": [
    {
      "cell_type": "markdown",
      "metadata": {
        "id": "view-in-github",
        "colab_type": "text"
      },
      "source": [
        "<a href=\"https://colab.research.google.com/github/asifikbal09/basic-python-for-ml/blob/main/Python_for_ML_Module_1.ipynb\" target=\"_parent\"><img src=\"https://colab.research.google.com/assets/colab-badge.svg\" alt=\"Open In Colab\"/></a>"
      ]
    },
    {
      "cell_type": "markdown",
      "source": [
        "##Basic Python for ML"
      ],
      "metadata": {
        "id": "KdhBhW4o2lxY"
      }
    },
    {
      "cell_type": "code",
      "execution_count": null,
      "metadata": {
        "colab": {
          "base_uri": "https://localhost:8080/"
        },
        "id": "sYDe5Hsv2c29",
        "outputId": "71239585-19f5-401f-f4b1-d869f94049f3"
      },
      "outputs": [
        {
          "output_type": "stream",
          "name": "stdout",
          "text": [
            "42\n",
            "3.1416\n",
            "hello\n",
            "True\n",
            "['banana', 'apple', 'orenge']\n",
            "('asif', 23, 'imran', 'forhad', 'romjan')\n",
            "{'name': 'asif', 'age': 23, 'city': 'dhaka'}\n",
            "{1, 2, 3, 5, 6, 8}\n",
            "<class 'int'> <class 'float'> <class 'str'> <class 'bool'> <class 'list'> <class 'tuple'> <class 'dict'> <class 'set'>\n"
          ]
        }
      ],
      "source": [
        "#--- Data type ---\n",
        "x = 42\n",
        "y = 3.1416\n",
        "z = \"hello\"\n",
        "t = True\n",
        "lst = [\"banana\",\"apple\",\"orenge\"] # list [mutable]\n",
        "tup = ('asif',23,'imran','forhad','romjan') # tuple [imutable]\n",
        "dct ={\n",
        "    'name':\"asif\",\n",
        "    'age':23,\n",
        "    'city':\"dhaka\"\n",
        "} # dict [mapping]\n",
        "st = {1,2,5,3,6,6,8,3} # set [unique]\n",
        "\n",
        "print(x)\n",
        "print(y)\n",
        "print(z)\n",
        "print(t)\n",
        "print(lst)\n",
        "print(tup)\n",
        "print(dct)\n",
        "print(st)\n",
        "print(type(x)\n",
        ",type(y)\n",
        ",type(z)\n",
        ",type(t)\n",
        ",type(lst)\n",
        ",type(tup)\n",
        ",type(dct)\n",
        ",type(st))\n"
      ]
    },
    {
      "cell_type": "code",
      "source": [
        "tpl = (1, 2, 3, [4, 5])\n",
        "tpl[3].append(6)\n",
        "print(tpl)"
      ],
      "metadata": {
        "colab": {
          "base_uri": "https://localhost:8080/"
        },
        "id": "GmJYJhuj5RDv",
        "outputId": "f1e340f3-005f-4fef-e9ff-00867db6e81b"
      },
      "execution_count": null,
      "outputs": [
        {
          "output_type": "stream",
          "name": "stdout",
          "text": [
            "(1, 2, 3, [4, 5, 6])\n"
          ]
        }
      ]
    }
  ]
}